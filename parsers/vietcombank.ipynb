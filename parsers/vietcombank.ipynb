{
 "cells": [
  {
   "cell_type": "code",
   "execution_count": null,
   "id": "76eeb72d-ad4a-4596-8b75-103108f535e6",
   "metadata": {},
   "outputs": [],
   "source": [
    "import pdfplumber\n",
    "import csv"
   ]
  },
  {
   "cell_type": "code",
   "execution_count": null,
   "id": "405d945c-3b98-4e36-a4ca-99016b37d2e3",
   "metadata": {},
   "outputs": [],
   "source": [
    "pdf = pdfplumber.open(\"mttq.pdf\")"
   ]
  },
  {
   "cell_type": "code",
   "execution_count": null,
   "id": "3619f5ed-ddb9-4f0c-a919-f73635c1615c",
   "metadata": {},
   "outputs": [],
   "source": [
    "import re, json\n",
    "from collections import defaultdict\n",
    "\n",
    "with open('mttq.csv', 'w', newline='') as csvfile:\n",
    "    fieldnames = ['date', 'transaction_code', 'amount', 'transaction_detail',\n",
    "                    # 'test'\n",
    "                 ]\n",
    "    writer = csv.DictWriter(csvfile, fieldnames=fieldnames)\n",
    "    writer.writeheader()\n",
    "    \n",
    "    for page in pdf.pages:\n",
    "        start = False\n",
    "        i = 0\n",
    "        info = defaultdict(str)\n",
    "        \n",
    "        transactions = []\n",
    "        date = None\n",
    "        \n",
    "        text_chunks = page.extract_text().split('\\n')\n",
    "        for text_chunk in text_chunks:\n",
    "            if text_chunk == 'Postal address: Telex : (0805) 411504 VCB - VT':\n",
    "                break\n",
    "            if not start and text_chunk == 'Số CT/ Doc No':\n",
    "                start = True\n",
    "            elif start:\n",
    "                match = re.fullmatch('[0-9]{2}\\/09\\/2024', text_chunk)\n",
    "                if match:\n",
    "                    i = 0\n",
    "                    if info['transaction_code']:\n",
    "                        info['date'] = date\n",
    "                        # info['test'] = json.dumps(info['transaction_detail'].split('.'))\n",
    "                        transactions.append(info)\n",
    "                        info = defaultdict(str)\n",
    "                    date = match.group(0)\n",
    "                elif i == 0:\n",
    "                    amount, first_transaction_detail_line = text_chunk.split(' ', 1)\n",
    "                    info['amount'] = amount\n",
    "                    info['transaction_detail'] = first_transaction_detail_line\n",
    "                    match1 = re.match('(\\d{1,3}(\\.\\d{3})*) ', first_transaction_detail_line)\n",
    "                    if match1:\n",
    "                        print(match1.group(1))\n",
    "                        info['transaction_detail'] = info['transaction_detail'].split(' ', 1)[1]\n",
    "                    i += 1\n",
    "                elif i == 1:\n",
    "                    info['transaction_code'] = text_chunk\n",
    "                    i += 1\n",
    "                else:\n",
    "                    info['transaction_detail'] += ' ' + text_chunk\n",
    "\n",
    "        if info['transaction_code']:\n",
    "            info['date'] = date\n",
    "            # info['test'] = json.dumps(info['transaction_detail'].split('.'))\n",
    "            transactions.append(info)\n",
    "\n",
    "        # print(page, len(transactions))\n",
    "        for row in transactions:\n",
    "            writer.writerow(row)"
   ]
  }
 ],
 "metadata": {
  "kernelspec": {
   "display_name": "Python 3 (ipykernel)",
   "language": "python",
   "name": "python3"
  },
  "language_info": {
   "codemirror_mode": {
    "name": "ipython",
    "version": 3
   },
   "file_extension": ".py",
   "mimetype": "text/x-python",
   "name": "python",
   "nbconvert_exporter": "python",
   "pygments_lexer": "ipython3",
   "version": "3.11.6"
  }
 },
 "nbformat": 4,
 "nbformat_minor": 5
}
