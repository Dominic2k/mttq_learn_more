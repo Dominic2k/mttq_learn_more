{
 "cells": [
  {
   "cell_type": "code",
   "execution_count": null,
   "id": "f7616ebd-887c-4d17-8b4c-1f4a1db4cc94",
   "metadata": {},
   "outputs": [],
   "source": [
    "import pdfplumber\n",
    "import csv"
   ]
  },
  {
   "cell_type": "code",
   "execution_count": null,
   "id": "7dfa1496-df72-495c-ad92-c583e6905b76",
   "metadata": {},
   "outputs": [],
   "source": [
    "pdf2 = pdfplumber.open(\"mttq2.pdf\")"
   ]
  },
  {
   "cell_type": "code",
   "execution_count": null,
   "id": "0673c963-41e9-49a3-b5ad-ac3479711121",
   "metadata": {},
   "outputs": [],
   "source": [
    "import re, json\n",
    "from collections import defaultdict\n",
    "\n",
    "with open('mttq_vietin.csv', 'w', newline='') as csvfile:\n",
    "    fieldnames = ['transaction_code', 'amount', 'transaction_detail',\n",
    "                    # 'test'\n",
    "                 ]\n",
    "    writer = csv.DictWriter(csvfile, fieldnames=fieldnames)\n",
    "    writer.writeheader()\n",
    "\n",
    "    i = 0\n",
    "    for page in pdf2.pages:\n",
    "        print(page.page_number)\n",
    "        start = False\n",
    "        info = defaultdict(str)\n",
    "        transactions = []\n",
    "        \n",
    "        date = None\n",
    "\n",
    "        raw_transactions = page.extract_table()\n",
    "        if page.page_number == 1:\n",
    "            raw_transactions = raw_transactions[2:]\n",
    "        # print(raw_transactions)\n",
    "        # break\n",
    "        for [_id, timestamp, transaction_detail, amount, note] in raw_transactions:\n",
    "            # print(_id, timestamp, transaction_detail, amount, transaction_code)\n",
    "            transactions.append({\n",
    "                'transaction_detail': f'{timestamp} {transaction_detail} ({note})'.replace('\\n', ' '),\n",
    "                'amount': int(amount.replace('.', '')),\n",
    "                'transaction_code': str(_id).replace('\\n', ' '),\n",
    "                # 'id': _id,\n",
    "                # 'timestamp': timestamp\n",
    "            })\n",
    "            # print(_id)\n",
    "            assert(int(_id) == i + 1)\n",
    "            i += 1\n",
    "\n",
    "        # print(page, len(transactions))\n",
    "        for row in transactions:\n",
    "            writer.writerow(row)"
   ]
  }
 ],
 "metadata": {
  "kernelspec": {
   "display_name": "Python 3 (ipykernel)",
   "language": "python",
   "name": "python3"
  },
  "language_info": {
   "codemirror_mode": {
    "name": "ipython",
    "version": 3
   },
   "file_extension": ".py",
   "mimetype": "text/x-python",
   "name": "python",
   "nbconvert_exporter": "python",
   "pygments_lexer": "ipython3",
   "version": "3.11.6"
  }
 },
 "nbformat": 4,
 "nbformat_minor": 5
}
