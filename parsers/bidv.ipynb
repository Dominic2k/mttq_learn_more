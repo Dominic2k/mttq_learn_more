{
 "cells": [
  {
   "cell_type": "code",
   "execution_count": null,
   "id": "ee052eaa-85c4-443f-b6a9-48fa3ba09570",
   "metadata": {},
   "outputs": [],
   "source": [
    "import pdfplumber\n",
    "import csv"
   ]
  },
  {
   "cell_type": "code",
   "execution_count": null,
   "id": "d3b79d4c-33f6-400a-87cd-cdde6ededd4c",
   "metadata": {},
   "outputs": [],
   "source": [
    "pdf6 = pdfplumber.open(\"mttq_bidv.pdf\")"
   ]
  },
  {
   "cell_type": "code",
   "execution_count": null,
   "id": "4c9fc194-6384-406e-8e33-3ebf9a748e36",
   "metadata": {},
   "outputs": [],
   "source": [
    "import re, json\n",
    "from collections import defaultdict\n",
    "\n",
    "with open('mttq_bidv.csv', 'w', newline='') as csvfile:\n",
    "    fieldnames = ['transaction_code', 'amount', 'transaction_detail',\n",
    "                    # 'test'\n",
    "                 ]\n",
    "    writer = csv.DictWriter(csvfile, fieldnames=fieldnames)\n",
    "    writer.writeheader()\n",
    "\n",
    "    i = 0\n",
    "    transaction_id = 0\n",
    "    \n",
    "    for page in pdf6.pages:\n",
    "        # print(page.page_number)\n",
    "        start = False\n",
    "        info = defaultdict(str)\n",
    "        transactions = []\n",
    "        \n",
    "        date = None\n",
    "\n",
    "        tables = page.extract_tables()\n",
    "        for raw_transactions in tables:\n",
    "            i += 1\n",
    "            if i == 1:\n",
    "                raw_transactions = raw_transactions[1:]\n",
    "            # print(raw_transactions)\n",
    "            # break\n",
    "            for record in raw_transactions:\n",
    "                try:\n",
    "                    # print(len(record), record)\n",
    "                    transaction_code, timestamp, amount, transaction_detail = record\n",
    "                    assert(int(transaction_code) == transaction_id + 1)\n",
    "                    transaction_id = int(transaction_code)\n",
    "                    amount = int(amount.replace('.', ''))\n",
    "                    transactions.append({\n",
    "                        'transaction_code': f'bidv_{transaction_code}',\n",
    "                        'amount': amount,\n",
    "                        'transaction_detail': f'{timestamp} {transaction_detail}'.replace('\\r\\n', ' ').replace('\\r', ' ').replace('\\n', ' ')\n",
    "                    })\n",
    "                except Exception as e:\n",
    "                        # print(transactions[-1])\n",
    "                    # elif 'Foreign\\nWorker\\nSalary' in transaction_detail:\n",
    "                    #     print(len(record), record)\n",
    "                    # else:\n",
    "                    #     print(transaction_detail)\n",
    "                    print(len(record), record)\n",
    "                    pass\n",
    "    \n",
    "        # print(page, len(transactions))\n",
    "        for row in transactions:\n",
    "            writer.writerow(row)\n",
    "        # print(transactions)\n",
    "        # break"
   ]
  }
 ],
 "metadata": {
  "kernelspec": {
   "display_name": "Python 3 (ipykernel)",
   "language": "python",
   "name": "python3"
  },
  "language_info": {
   "codemirror_mode": {
    "name": "ipython",
    "version": 3
   },
   "file_extension": ".py",
   "mimetype": "text/x-python",
   "name": "python",
   "nbconvert_exporter": "python",
   "pygments_lexer": "ipython3",
   "version": "3.11.6"
  }
 },
 "nbformat": 4,
 "nbformat_minor": 5
}
