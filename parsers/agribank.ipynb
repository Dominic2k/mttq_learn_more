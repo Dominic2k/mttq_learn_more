{
 "cells": [
  {
   "cell_type": "code",
   "execution_count": null,
   "id": "5abcec91-06c7-4fdf-b98b-a0ac1f31b744",
   "metadata": {},
   "outputs": [],
   "source": [
    "import pdfplumber\n",
    "import csv"
   ]
  },
  {
   "cell_type": "code",
   "execution_count": null,
   "id": "b4f6093a-eb9e-4253-ac85-10f9028c35c5",
   "metadata": {},
   "outputs": [],
   "source": [
    "pdf3 = pdfplumber.open(\"angrybank.pdf\")"
   ]
  },
  {
   "cell_type": "code",
   "execution_count": null,
   "id": "61f8f409-6526-4f1a-94ca-e20f0abd6f22",
   "metadata": {},
   "outputs": [],
   "source": [
    "import re, json\n",
    "from collections import defaultdict\n",
    "\n",
    "with open('mttq_agri_caobang.csv', 'w', newline='') as csvfile:\n",
    "    fieldnames = ['transaction_code', 'amount', 'transaction_detail',\n",
    "                    # 'test'\n",
    "                 ]\n",
    "    writer = csv.DictWriter(csvfile, fieldnames=fieldnames)\n",
    "    writer.writeheader()\n",
    "\n",
    "    i = 0\n",
    "    for page in pdf3.pages:\n",
    "        # print(page.page_number)\n",
    "        start = False\n",
    "        info = defaultdict(str)\n",
    "        transactions = []\n",
    "        \n",
    "        date = None\n",
    "\n",
    "        raw_transactions = page.extract_table()\n",
    "        raw_transactions = raw_transactions[1:]\n",
    "        # print(raw_transactions)\n",
    "        # break\n",
    "        for record in raw_transactions:\n",
    "            try:\n",
    "                # print(len(record), record)\n",
    "                date, transaction_detail, out, _in, balance, ref_no = record\n",
    "                # print(_id, timestamp, transaction_detail, amount, transaction_code)\n",
    "                if not _in:\n",
    "                    continue\n",
    "                if '|CASZLP|' in transaction_detail:\n",
    "                    # print('CASZLP', len(record), record)\n",
    "                    date, transaction_detail, transaction_detail_part2, transaction_detail_part3_and_in, balance, ref_no = record\n",
    "                    transaction_detal_parts = transaction_detail.split('\\n')\n",
    "                    transaction_detail_part3, _in = transaction_detail_part3_and_in.split(' ')\n",
    "                    print(_in)\n",
    "                    transaction_detail = f'{transaction_detal_parts[0]}{transaction_detail_part2}{transaction_detail_part3} {transaction_detal_parts[1]}'\n",
    "                    amount = int(_in.replace(',', ''))\n",
    "                    # print(amount)\n",
    "                    transactions.append({\n",
    "                        'transaction_detail': f'{date} {transaction_detail}'.replace('\\n', ' '),\n",
    "                        'amount': amount,\n",
    "                        'transaction_code': ref_no,\n",
    "                        # 'id': _id,\n",
    "                        # 'timestamp': timestamp\n",
    "                    })\n",
    "                else:\n",
    "                    amount = int(_in.replace(',', ''))\n",
    "                    transactions.append({\n",
    "                        'transaction_detail': f'{date} {transaction_detail}'.replace('\\n', ' '),\n",
    "                        'amount': amount,\n",
    "                        'transaction_code': ref_no,\n",
    "                        # 'id': _id,\n",
    "                        # 'timestamp': timestamp\n",
    "                    })\n",
    "                # print(_id)\n",
    "                # assert(int(_id) == i + 1)\n",
    "                # i += 1\n",
    "            except Exception as e:\n",
    "                    # print(transactions[-1])\n",
    "                # elif 'Foreign\\nWorker\\nSalary' in transaction_detail:\n",
    "                #     print(len(record), record)\n",
    "                # else:\n",
    "                #     print(transaction_detail)\n",
    "                print(len(record), record)\n",
    "                pass\n",
    "\n",
    "        # print(page, len(transactions))\n",
    "        for row in transactions:\n",
    "            writer.writerow(row)"
   ]
  }
 ],
 "metadata": {
  "kernelspec": {
   "display_name": "Python 3 (ipykernel)",
   "language": "python",
   "name": "python3"
  },
  "language_info": {
   "codemirror_mode": {
    "name": "ipython",
    "version": 3
   },
   "file_extension": ".py",
   "mimetype": "text/x-python",
   "name": "python",
   "nbconvert_exporter": "python",
   "pygments_lexer": "ipython3",
   "version": "3.11.6"
  }
 },
 "nbformat": 4,
 "nbformat_minor": 5
}
